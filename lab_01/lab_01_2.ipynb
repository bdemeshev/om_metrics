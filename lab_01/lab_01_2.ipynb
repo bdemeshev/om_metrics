{
  "cells": [
    {
      "cell_type": "markdown",
      "metadata": {},
      "source": [
        "### Ноутбук 1.2. Множественная регрессия про машинки.\n",
        "\n"
      ]
    },
    {
      "cell_type": "code",
      "execution_count": null,
      "metadata": {
        "id": "zQcX8ALpqRdE"
      },
      "outputs": [],
      "source": [
        "import numpy as np # математические операции\n",
        "import pandas as pd # операции с табличками\n",
        "import statsmodels.formula.api as smf # модели \n",
        "from sklearn.linear_model import LinearRegression # линейная регрессия без статистики\n",
        "import seaborn as sns # графики\n",
        "import matplotlib.pyplot as plt # графики"
      ]
    },
    {
      "cell_type": "code",
      "execution_count": null,
      "metadata": {
        "colab": {
          "base_uri": "https://localhost:8080/"
        },
        "id": "n6U-xzwhqoSU",
        "outputId": "1ea45d77-758d-45a1-9b86-063ea52cb763"
      },
      "outputs": [
        {
          "name": "stdout",
          "output_type": "stream",
          "text": [
            "Requirement already satisfied: rdatasets in /usr/local/lib/python3.7/dist-packages (0.1.0)\n",
            "Requirement already satisfied: pandas in /usr/local/lib/python3.7/dist-packages (from rdatasets) (1.1.5)\n",
            "Requirement already satisfied: python-dateutil>=2.7.3 in /usr/local/lib/python3.7/dist-packages (from pandas->rdatasets) (2.8.1)\n",
            "Requirement already satisfied: numpy>=1.15.4 in /usr/local/lib/python3.7/dist-packages (from pandas->rdatasets) (1.19.5)\n",
            "Requirement already satisfied: pytz>=2017.2 in /usr/local/lib/python3.7/dist-packages (from pandas->rdatasets) (2018.9)\n",
            "Requirement already satisfied: six>=1.5 in /usr/local/lib/python3.7/dist-packages (from python-dateutil>=2.7.3->pandas->rdatasets) (1.15.0)\n"
          ]
        }
      ],
      "source": [
        "!pip install rdatasets # наборы данных\n",
        "from rdatasets import data "
      ]
    },
    {
      "cell_type": "code",
      "execution_count": null,
      "metadata": {
        "id": "arlveSBv01f0"
      },
      "outputs": [],
      "source": [
        "h = data('cars')"
      ]
    },
    {
      "cell_type": "code",
      "execution_count": null,
      "metadata": {
        "colab": {
          "base_uri": "https://localhost:8080/",
          "height": 206
        },
        "id": "iZY0esRx1MCN",
        "outputId": "9510b06e-2631-40a3-dc21-e4e472000f35"
      },
      "outputs": [
        {
          "data": {
            "text/html": [
              "<div>\n",
              "<style scoped>\n",
              "    .dataframe tbody tr th:only-of-type {\n",
              "        vertical-align: middle;\n",
              "    }\n",
              "\n",
              "    .dataframe tbody tr th {\n",
              "        vertical-align: top;\n",
              "    }\n",
              "\n",
              "    .dataframe thead th {\n",
              "        text-align: right;\n",
              "    }\n",
              "</style>\n",
              "<table border=\"1\" class=\"dataframe\">\n",
              "  <thead>\n",
              "    <tr style=\"text-align: right;\">\n",
              "      <th></th>\n",
              "      <th>speed</th>\n",
              "      <th>dist</th>\n",
              "    </tr>\n",
              "  </thead>\n",
              "  <tbody>\n",
              "    <tr>\n",
              "      <th>0</th>\n",
              "      <td>4</td>\n",
              "      <td>2</td>\n",
              "    </tr>\n",
              "    <tr>\n",
              "      <th>1</th>\n",
              "      <td>4</td>\n",
              "      <td>10</td>\n",
              "    </tr>\n",
              "    <tr>\n",
              "      <th>2</th>\n",
              "      <td>7</td>\n",
              "      <td>4</td>\n",
              "    </tr>\n",
              "    <tr>\n",
              "      <th>3</th>\n",
              "      <td>7</td>\n",
              "      <td>22</td>\n",
              "    </tr>\n",
              "    <tr>\n",
              "      <th>4</th>\n",
              "      <td>8</td>\n",
              "      <td>16</td>\n",
              "    </tr>\n",
              "  </tbody>\n",
              "</table>\n",
              "</div>"
            ],
            "text/plain": [
              "   speed  dist\n",
              "0      4     2\n",
              "1      4    10\n",
              "2      7     4\n",
              "3      7    22\n",
              "4      8    16"
            ]
          },
          "execution_count": 28,
          "metadata": {
            "tags": []
          },
          "output_type": "execute_result"
        }
      ],
      "source": [
        "h.head()"
      ]
    },
    {
      "cell_type": "code",
      "execution_count": null,
      "metadata": {
        "id": "8EoPfIpd1NcT"
      },
      "outputs": [],
      "source": [
        "model_0 = smf.ols('dist ~ speed', data=h)\n",
        "fit_0 = model_0.fit()"
      ]
    },
    {
      "cell_type": "code",
      "execution_count": null,
      "metadata": {
        "colab": {
          "base_uri": "https://localhost:8080/",
          "height": 452
        },
        "id": "jCGjqBky1izW",
        "outputId": "edc66df1-3107-4587-e3a2-e5a623f9f37f"
      },
      "outputs": [
        {
          "data": {
            "text/html": [
              "<table class=\"simpletable\">\n",
              "<caption>OLS Regression Results</caption>\n",
              "<tr>\n",
              "  <th>Dep. Variable:</th>          <td>dist</td>       <th>  R-squared:         </th> <td>   0.651</td>\n",
              "</tr>\n",
              "<tr>\n",
              "  <th>Model:</th>                   <td>OLS</td>       <th>  Adj. R-squared:    </th> <td>   0.644</td>\n",
              "</tr>\n",
              "<tr>\n",
              "  <th>Method:</th>             <td>Least Squares</td>  <th>  F-statistic:       </th> <td>   89.57</td>\n",
              "</tr>\n",
              "<tr>\n",
              "  <th>Date:</th>             <td>Thu, 05 Aug 2021</td> <th>  Prob (F-statistic):</th> <td>1.49e-12</td>\n",
              "</tr>\n",
              "<tr>\n",
              "  <th>Time:</th>                 <td>10:22:54</td>     <th>  Log-Likelihood:    </th> <td> -206.58</td>\n",
              "</tr>\n",
              "<tr>\n",
              "  <th>No. Observations:</th>      <td>    50</td>      <th>  AIC:               </th> <td>   417.2</td>\n",
              "</tr>\n",
              "<tr>\n",
              "  <th>Df Residuals:</th>          <td>    48</td>      <th>  BIC:               </th> <td>   421.0</td>\n",
              "</tr>\n",
              "<tr>\n",
              "  <th>Df Model:</th>              <td>     1</td>      <th>                     </th>     <td> </td>   \n",
              "</tr>\n",
              "<tr>\n",
              "  <th>Covariance Type:</th>      <td>nonrobust</td>    <th>                     </th>     <td> </td>   \n",
              "</tr>\n",
              "</table>\n",
              "<table class=\"simpletable\">\n",
              "<tr>\n",
              "      <td></td>         <th>coef</th>     <th>std err</th>      <th>t</th>      <th>P>|t|</th>  <th>[0.025</th>    <th>0.975]</th>  \n",
              "</tr>\n",
              "<tr>\n",
              "  <th>Intercept</th> <td>  -17.5791</td> <td>    6.758</td> <td>   -2.601</td> <td> 0.012</td> <td>  -31.168</td> <td>   -3.990</td>\n",
              "</tr>\n",
              "<tr>\n",
              "  <th>speed</th>     <td>    3.9324</td> <td>    0.416</td> <td>    9.464</td> <td> 0.000</td> <td>    3.097</td> <td>    4.768</td>\n",
              "</tr>\n",
              "</table>\n",
              "<table class=\"simpletable\">\n",
              "<tr>\n",
              "  <th>Omnibus:</th>       <td> 8.975</td> <th>  Durbin-Watson:     </th> <td>   1.676</td>\n",
              "</tr>\n",
              "<tr>\n",
              "  <th>Prob(Omnibus):</th> <td> 0.011</td> <th>  Jarque-Bera (JB):  </th> <td>   8.189</td>\n",
              "</tr>\n",
              "<tr>\n",
              "  <th>Skew:</th>          <td> 0.885</td> <th>  Prob(JB):          </th> <td>  0.0167</td>\n",
              "</tr>\n",
              "<tr>\n",
              "  <th>Kurtosis:</th>      <td> 3.893</td> <th>  Cond. No.          </th> <td>    50.7</td>\n",
              "</tr>\n",
              "</table><br/><br/>Warnings:<br/>[1] Standard Errors assume that the covariance matrix of the errors is correctly specified."
            ],
            "text/plain": [
              "<class 'statsmodels.iolib.summary.Summary'>\n",
              "\"\"\"\n",
              "                            OLS Regression Results                            \n",
              "==============================================================================\n",
              "Dep. Variable:                   dist   R-squared:                       0.651\n",
              "Model:                            OLS   Adj. R-squared:                  0.644\n",
              "Method:                 Least Squares   F-statistic:                     89.57\n",
              "Date:                Thu, 05 Aug 2021   Prob (F-statistic):           1.49e-12\n",
              "Time:                        10:22:54   Log-Likelihood:                -206.58\n",
              "No. Observations:                  50   AIC:                             417.2\n",
              "Df Residuals:                      48   BIC:                             421.0\n",
              "Df Model:                           1                                         \n",
              "Covariance Type:            nonrobust                                         \n",
              "==============================================================================\n",
              "                 coef    std err          t      P>|t|      [0.025      0.975]\n",
              "------------------------------------------------------------------------------\n",
              "Intercept    -17.5791      6.758     -2.601      0.012     -31.168      -3.990\n",
              "speed          3.9324      0.416      9.464      0.000       3.097       4.768\n",
              "==============================================================================\n",
              "Omnibus:                        8.975   Durbin-Watson:                   1.676\n",
              "Prob(Omnibus):                  0.011   Jarque-Bera (JB):                8.189\n",
              "Skew:                           0.885   Prob(JB):                       0.0167\n",
              "Kurtosis:                       3.893   Cond. No.                         50.7\n",
              "==============================================================================\n",
              "\n",
              "Warnings:\n",
              "[1] Standard Errors assume that the covariance matrix of the errors is correctly specified.\n",
              "\"\"\""
            ]
          },
          "execution_count": 30,
          "metadata": {
            "tags": []
          },
          "output_type": "execute_result"
        }
      ],
      "source": [
        "fit_0.summary()"
      ]
    },
    {
      "cell_type": "code",
      "execution_count": null,
      "metadata": {
        "colab": {
          "base_uri": "https://localhost:8080/"
        },
        "id": "f7pTycBn1lrh",
        "outputId": "7d0abcaf-96a3-4d58-b424-029924f62755"
      },
      "outputs": [
        {
          "data": {
            "text/plain": [
              "Intercept   -17.579095\n",
              "speed         3.932409\n",
              "dtype: float64"
            ]
          },
          "execution_count": 31,
          "metadata": {
            "tags": []
          },
          "output_type": "execute_result"
        }
      ],
      "source": [
        "fit_0.params"
      ]
    },
    {
      "cell_type": "code",
      "execution_count": null,
      "metadata": {
        "colab": {
          "base_uri": "https://localhost:8080/"
        },
        "id": "kZyzXeqh2T6T",
        "outputId": "ac6d388d-6126-4219-d743-3942e871265f"
      },
      "outputs": [
        {
          "data": {
            "text/plain": [
              "0.6510793807582509"
            ]
          },
          "execution_count": 37,
          "metadata": {
            "tags": []
          },
          "output_type": "execute_result"
        }
      ],
      "source": [
        "fit_0.rsquared"
      ]
    },
    {
      "cell_type": "code",
      "execution_count": null,
      "metadata": {
        "colab": {
          "base_uri": "https://localhost:8080/"
        },
        "id": "iEkWNwPw2pCC",
        "outputId": "5c24ada7-e6c4-47ac-d852-a6c23be759c4"
      },
      "outputs": [
        {
          "data": {
            "text/plain": [
              "0      3.849460\n",
              "1     11.849460\n",
              "2     -5.947766\n",
              "3     12.052234\n",
              "4      2.119825\n",
              "5     -7.812584\n",
              "6     -3.744993\n",
              "7      4.255007\n",
              "8     12.255007\n",
              "9     -8.677401\n",
              "10     2.322599\n",
              "11   -15.609810\n",
              "12    -9.609810\n",
              "13    -5.609810\n",
              "14    -1.609810\n",
              "15    -7.542219\n",
              "16     0.457781\n",
              "17     0.457781\n",
              "18    12.457781\n",
              "19   -11.474628\n",
              "20    -1.474628\n",
              "21    22.525372\n",
              "22    42.525372\n",
              "23   -21.407036\n",
              "24   -15.407036\n",
              "25    12.592964\n",
              "26   -13.339445\n",
              "27    -5.339445\n",
              "28   -17.271854\n",
              "29    -9.271854\n",
              "30     0.728146\n",
              "31   -11.204263\n",
              "32     2.795737\n",
              "33    22.795737\n",
              "34    30.795737\n",
              "35   -21.136672\n",
              "36   -11.136672\n",
              "37    10.863328\n",
              "38   -29.069080\n",
              "39   -13.069080\n",
              "40    -9.069080\n",
              "41    -5.069080\n",
              "42     2.930920\n",
              "43    -2.933898\n",
              "44   -18.866307\n",
              "45    -6.798715\n",
              "46    15.201285\n",
              "47    16.201285\n",
              "48    43.201285\n",
              "49     4.268876\n",
              "dtype: float64"
            ]
          },
          "execution_count": 38,
          "metadata": {
            "tags": []
          },
          "output_type": "execute_result"
        }
      ],
      "source": [
        "fit_0.resid"
      ]
    },
    {
      "cell_type": "code",
      "execution_count": null,
      "metadata": {
        "colab": {
          "base_uri": "https://localhost:8080/"
        },
        "id": "q-vAEy2W2riy",
        "outputId": "9b1310bd-4271-4a02-c91e-ea8491758547"
      },
      "outputs": [
        {
          "data": {
            "text/plain": [
              "11353.52105109489"
            ]
          },
          "execution_count": 39,
          "metadata": {
            "tags": []
          },
          "output_type": "execute_result"
        }
      ],
      "source": [
        "fit_0.ssr"
      ]
    },
    {
      "cell_type": "code",
      "execution_count": null,
      "metadata": {
        "id": "wV9DOd4m2vcg"
      },
      "outputs": [],
      "source": [
        "new = pd.DataFrame({'speed': [10, 60]})"
      ]
    },
    {
      "cell_type": "code",
      "execution_count": null,
      "metadata": {
        "colab": {
          "base_uri": "https://localhost:8080/",
          "height": 112
        },
        "id": "ZY1mp1Au26sY",
        "outputId": "8e1f2056-1517-43d7-e004-07e1df8bc5e5"
      },
      "outputs": [
        {
          "data": {
            "text/html": [
              "<div>\n",
              "<style scoped>\n",
              "    .dataframe tbody tr th:only-of-type {\n",
              "        vertical-align: middle;\n",
              "    }\n",
              "\n",
              "    .dataframe tbody tr th {\n",
              "        vertical-align: top;\n",
              "    }\n",
              "\n",
              "    .dataframe thead th {\n",
              "        text-align: right;\n",
              "    }\n",
              "</style>\n",
              "<table border=\"1\" class=\"dataframe\">\n",
              "  <thead>\n",
              "    <tr style=\"text-align: right;\">\n",
              "      <th></th>\n",
              "      <th>speed</th>\n",
              "    </tr>\n",
              "  </thead>\n",
              "  <tbody>\n",
              "    <tr>\n",
              "      <th>0</th>\n",
              "      <td>10</td>\n",
              "    </tr>\n",
              "    <tr>\n",
              "      <th>1</th>\n",
              "      <td>60</td>\n",
              "    </tr>\n",
              "  </tbody>\n",
              "</table>\n",
              "</div>"
            ],
            "text/plain": [
              "   speed\n",
              "0     10\n",
              "1     60"
            ]
          },
          "execution_count": 41,
          "metadata": {
            "tags": []
          },
          "output_type": "execute_result"
        }
      ],
      "source": [
        "new"
      ]
    },
    {
      "cell_type": "code",
      "execution_count": null,
      "metadata": {
        "colab": {
          "base_uri": "https://localhost:8080/"
        },
        "id": "cJ84fjsJ27Le",
        "outputId": "a55e3ac4-46a1-41da-901a-03c0028d7776"
      },
      "outputs": [
        {
          "data": {
            "text/plain": [
              "0     21.744993\n",
              "1    218.365431\n",
              "dtype: float64"
            ]
          },
          "execution_count": 42,
          "metadata": {
            "tags": []
          },
          "output_type": "execute_result"
        }
      ],
      "source": [
        "fit_0.predict(new)"
      ]
    },
    {
      "cell_type": "code",
      "execution_count": null,
      "metadata": {
        "id": "K0ymfiYN4Dyh"
      },
      "outputs": [],
      "source": [
        "y = h['dist']\n",
        "X = h[['speed']]"
      ]
    },
    {
      "cell_type": "code",
      "execution_count": null,
      "metadata": {
        "id": "AlL-solX4dLU"
      },
      "outputs": [],
      "source": [
        "sk_mod_0 = LinearRegression()\n",
        "sk_fit_0 = sk_mod_0.fit(X, y)"
      ]
    },
    {
      "cell_type": "code",
      "execution_count": null,
      "metadata": {
        "colab": {
          "base_uri": "https://localhost:8080/"
        },
        "id": "hRmeAfoG4oTw",
        "outputId": "b671aee3-85f6-4614-fe61-30f72305d6b0"
      },
      "outputs": [
        {
          "data": {
            "text/plain": [
              "array([3.93240876])"
            ]
          },
          "execution_count": 52,
          "metadata": {
            "tags": []
          },
          "output_type": "execute_result"
        }
      ],
      "source": [
        "sk_fit_0.coef_"
      ]
    },
    {
      "cell_type": "code",
      "execution_count": null,
      "metadata": {
        "colab": {
          "base_uri": "https://localhost:8080/"
        },
        "id": "AaGmLHso4unF",
        "outputId": "a6354e43-578f-47cd-ff39-4b3daafc0121"
      },
      "outputs": [
        {
          "data": {
            "text/plain": [
              "-17.579094890510973"
            ]
          },
          "execution_count": 53,
          "metadata": {
            "tags": []
          },
          "output_type": "execute_result"
        }
      ],
      "source": [
        "sk_fit_0.intercept_"
      ]
    },
    {
      "cell_type": "code",
      "execution_count": null,
      "metadata": {
        "colab": {
          "base_uri": "https://localhost:8080/"
        },
        "id": "9uFBRsOE5BAA",
        "outputId": "6a4aff52-1d2c-472a-9f9c-ab219191657c"
      },
      "outputs": [
        {
          "data": {
            "text/plain": [
              "array([ 21.7449927 , 218.36543066])"
            ]
          },
          "execution_count": 57,
          "metadata": {
            "tags": []
          },
          "output_type": "execute_result"
        }
      ],
      "source": [
        "sk_fit_0.predict(new)"
      ]
    },
    {
      "cell_type": "code",
      "execution_count": null,
      "metadata": {
        "id": "uCu-XSXl5fTL"
      },
      "outputs": [],
      "source": [
        "h['speed2'] = h['speed'] ** 2"
      ]
    },
    {
      "cell_type": "code",
      "execution_count": null,
      "metadata": {
        "id": "VFUpdlNT5mQ2"
      },
      "outputs": [],
      "source": [
        "model_1 = smf.ols('dist ~ speed + speed2', data=h)\n",
        "fit_1 = model_1.fit()"
      ]
    },
    {
      "cell_type": "code",
      "execution_count": null,
      "metadata": {
        "colab": {
          "base_uri": "https://localhost:8080/",
          "height": 473
        },
        "id": "pVWvVWVM5sDJ",
        "outputId": "db0ff093-a132-4f72-e12c-a0c7124c5672"
      },
      "outputs": [
        {
          "data": {
            "text/html": [
              "<table class=\"simpletable\">\n",
              "<caption>OLS Regression Results</caption>\n",
              "<tr>\n",
              "  <th>Dep. Variable:</th>          <td>dist</td>       <th>  R-squared:         </th> <td>   0.656</td>\n",
              "</tr>\n",
              "<tr>\n",
              "  <th>Model:</th>                   <td>OLS</td>       <th>  Adj. R-squared:    </th> <td>   0.641</td>\n",
              "</tr>\n",
              "<tr>\n",
              "  <th>Method:</th>             <td>Least Squares</td>  <th>  F-statistic:       </th> <td>   44.73</td>\n",
              "</tr>\n",
              "<tr>\n",
              "  <th>Date:</th>             <td>Thu, 05 Aug 2021</td> <th>  Prob (F-statistic):</th> <td>1.32e-11</td>\n",
              "</tr>\n",
              "<tr>\n",
              "  <th>Time:</th>                 <td>10:42:11</td>     <th>  Log-Likelihood:    </th> <td> -206.25</td>\n",
              "</tr>\n",
              "<tr>\n",
              "  <th>No. Observations:</th>      <td>    50</td>      <th>  AIC:               </th> <td>   418.5</td>\n",
              "</tr>\n",
              "<tr>\n",
              "  <th>Df Residuals:</th>          <td>    47</td>      <th>  BIC:               </th> <td>   424.2</td>\n",
              "</tr>\n",
              "<tr>\n",
              "  <th>Df Model:</th>              <td>     2</td>      <th>                     </th>     <td> </td>   \n",
              "</tr>\n",
              "<tr>\n",
              "  <th>Covariance Type:</th>      <td>nonrobust</td>    <th>                     </th>     <td> </td>   \n",
              "</tr>\n",
              "</table>\n",
              "<table class=\"simpletable\">\n",
              "<tr>\n",
              "      <td></td>         <th>coef</th>     <th>std err</th>      <th>t</th>      <th>P>|t|</th>  <th>[0.025</th>    <th>0.975]</th>  \n",
              "</tr>\n",
              "<tr>\n",
              "  <th>Intercept</th> <td>  -17.9526</td> <td>    6.803</td> <td>   -2.639</td> <td> 0.011</td> <td>  -31.638</td> <td>   -4.267</td>\n",
              "</tr>\n",
              "<tr>\n",
              "  <th>speed</th>     <td>    4.8273</td> <td>    1.217</td> <td>    3.966</td> <td> 0.000</td> <td>    2.378</td> <td>    7.276</td>\n",
              "</tr>\n",
              "<tr>\n",
              "  <th>speed2</th>    <td>   -0.8616</td> <td>    1.101</td> <td>   -0.783</td> <td> 0.438</td> <td>   -3.077</td> <td>    1.353</td>\n",
              "</tr>\n",
              "</table>\n",
              "<table class=\"simpletable\">\n",
              "<tr>\n",
              "  <th>Omnibus:</th>       <td> 8.050</td> <th>  Durbin-Watson:     </th> <td>   1.695</td>\n",
              "</tr>\n",
              "<tr>\n",
              "  <th>Prob(Omnibus):</th> <td> 0.018</td> <th>  Jarque-Bera (JB):  </th> <td>   7.106</td>\n",
              "</tr>\n",
              "<tr>\n",
              "  <th>Skew:</th>          <td> 0.814</td> <th>  Prob(JB):          </th> <td>  0.0286</td>\n",
              "</tr>\n",
              "<tr>\n",
              "  <th>Kurtosis:</th>      <td> 3.872</td> <th>  Cond. No.          </th> <td>    72.5</td>\n",
              "</tr>\n",
              "</table><br/><br/>Warnings:<br/>[1] Standard Errors assume that the covariance matrix of the errors is correctly specified."
            ],
            "text/plain": [
              "<class 'statsmodels.iolib.summary.Summary'>\n",
              "\"\"\"\n",
              "                            OLS Regression Results                            \n",
              "==============================================================================\n",
              "Dep. Variable:                   dist   R-squared:                       0.656\n",
              "Model:                            OLS   Adj. R-squared:                  0.641\n",
              "Method:                 Least Squares   F-statistic:                     44.73\n",
              "Date:                Thu, 05 Aug 2021   Prob (F-statistic):           1.32e-11\n",
              "Time:                        10:42:11   Log-Likelihood:                -206.25\n",
              "No. Observations:                  50   AIC:                             418.5\n",
              "Df Residuals:                      47   BIC:                             424.2\n",
              "Df Model:                           2                                         \n",
              "Covariance Type:            nonrobust                                         \n",
              "==============================================================================\n",
              "                 coef    std err          t      P>|t|      [0.025      0.975]\n",
              "------------------------------------------------------------------------------\n",
              "Intercept    -17.9526      6.803     -2.639      0.011     -31.638      -4.267\n",
              "speed          4.8273      1.217      3.966      0.000       2.378       7.276\n",
              "speed2        -0.8616      1.101     -0.783      0.438      -3.077       1.353\n",
              "==============================================================================\n",
              "Omnibus:                        8.050   Durbin-Watson:                   1.695\n",
              "Prob(Omnibus):                  0.018   Jarque-Bera (JB):                7.106\n",
              "Skew:                           0.814   Prob(JB):                       0.0286\n",
              "Kurtosis:                       3.872   Cond. No.                         72.5\n",
              "==============================================================================\n",
              "\n",
              "Warnings:\n",
              "[1] Standard Errors assume that the covariance matrix of the errors is correctly specified.\n",
              "\"\"\""
            ]
          },
          "execution_count": 63,
          "metadata": {
            "tags": []
          },
          "output_type": "execute_result"
        }
      ],
      "source": [
        "fit_1.summary()"
      ]
    },
    {
      "cell_type": "code",
      "execution_count": null,
      "metadata": {
        "id": "XZiDm2YU5tss"
      },
      "outputs": [],
      "source": []
    }
  ],
  "metadata": {
    "colab": {
      "collapsed_sections": [],
      "name": "lab_01_2.ipynb",
      "provenance": []
    },
    "kernelspec": {
      "display_name": "Python 3",
      "name": "python3"
    },
    "language_info": {
      "name": "python"
    }
  },
  "nbformat": 4,
  "nbformat_minor": 0
}
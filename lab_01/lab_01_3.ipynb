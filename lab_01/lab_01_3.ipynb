{
  "cells": [
    {
      "cell_type": "markdown",
      "metadata": {},
      "source": [
        "Ноутбук 1.3. Множественная регрессия про провинции."
      ]
    },
    {
      "cell_type": "code",
      "execution_count": null,
      "metadata": {
        "id": "zQcX8ALpqRdE"
      },
      "outputs": [],
      "source": [
        "import numpy as np # математические операции\n",
        "import pandas as pd # операции с табличками\n",
        "import statsmodels.formula.api as smf # модели \n",
        "from sklearn.linear_model import LinearRegression # линейная регрессия без статистики\n",
        "import seaborn as sns # графики\n",
        "import matplotlib.pyplot as plt # графики"
      ]
    },
    {
      "cell_type": "code",
      "execution_count": null,
      "metadata": {
        "id": "n6U-xzwhqoSU"
      },
      "outputs": [],
      "source": [
        "!pip install rdatasets # наборы данных\n",
        "from rdatasets import data "
      ]
    },
    {
      "cell_type": "code",
      "execution_count": null,
      "metadata": {
        "id": "2Hdik5Wf6SAb"
      },
      "outputs": [],
      "source": [
        "swiss = data('swiss')"
      ]
    },
    {
      "cell_type": "code",
      "execution_count": null,
      "metadata": {
        "colab": {
          "base_uri": "https://localhost:8080/",
          "height": 206
        },
        "id": "vNcNZgZD7a9q",
        "outputId": "31bab7ee-820a-4e70-ceeb-6cd458c26163"
      },
      "outputs": [
        {
          "data": {
            "text/html": [
              "<div>\n",
              "<style scoped>\n",
              "    .dataframe tbody tr th:only-of-type {\n",
              "        vertical-align: middle;\n",
              "    }\n",
              "\n",
              "    .dataframe tbody tr th {\n",
              "        vertical-align: top;\n",
              "    }\n",
              "\n",
              "    .dataframe thead th {\n",
              "        text-align: right;\n",
              "    }\n",
              "</style>\n",
              "<table border=\"1\" class=\"dataframe\">\n",
              "  <thead>\n",
              "    <tr style=\"text-align: right;\">\n",
              "      <th></th>\n",
              "      <th>Fertility</th>\n",
              "      <th>Agriculture</th>\n",
              "      <th>Examination</th>\n",
              "      <th>Education</th>\n",
              "      <th>Catholic</th>\n",
              "      <th>Infant.Mortality</th>\n",
              "    </tr>\n",
              "  </thead>\n",
              "  <tbody>\n",
              "    <tr>\n",
              "      <th>0</th>\n",
              "      <td>80.2</td>\n",
              "      <td>17.0</td>\n",
              "      <td>15</td>\n",
              "      <td>12</td>\n",
              "      <td>9.96</td>\n",
              "      <td>22.2</td>\n",
              "    </tr>\n",
              "    <tr>\n",
              "      <th>1</th>\n",
              "      <td>83.1</td>\n",
              "      <td>45.1</td>\n",
              "      <td>6</td>\n",
              "      <td>9</td>\n",
              "      <td>84.84</td>\n",
              "      <td>22.2</td>\n",
              "    </tr>\n",
              "    <tr>\n",
              "      <th>2</th>\n",
              "      <td>92.5</td>\n",
              "      <td>39.7</td>\n",
              "      <td>5</td>\n",
              "      <td>5</td>\n",
              "      <td>93.40</td>\n",
              "      <td>20.2</td>\n",
              "    </tr>\n",
              "    <tr>\n",
              "      <th>3</th>\n",
              "      <td>85.8</td>\n",
              "      <td>36.5</td>\n",
              "      <td>12</td>\n",
              "      <td>7</td>\n",
              "      <td>33.77</td>\n",
              "      <td>20.3</td>\n",
              "    </tr>\n",
              "    <tr>\n",
              "      <th>4</th>\n",
              "      <td>76.9</td>\n",
              "      <td>43.5</td>\n",
              "      <td>17</td>\n",
              "      <td>15</td>\n",
              "      <td>5.16</td>\n",
              "      <td>20.6</td>\n",
              "    </tr>\n",
              "  </tbody>\n",
              "</table>\n",
              "</div>"
            ],
            "text/plain": [
              "   Fertility  Agriculture  Examination  Education  Catholic  Infant.Mortality\n",
              "0       80.2         17.0           15         12      9.96              22.2\n",
              "1       83.1         45.1            6          9     84.84              22.2\n",
              "2       92.5         39.7            5          5     93.40              20.2\n",
              "3       85.8         36.5           12          7     33.77              20.3\n",
              "4       76.9         43.5           17         15      5.16              20.6"
            ]
          },
          "execution_count": 24,
          "metadata": {
            "tags": []
          },
          "output_type": "execute_result"
        }
      ],
      "source": [
        "swiss.head()"
      ]
    },
    {
      "cell_type": "code",
      "execution_count": null,
      "metadata": {
        "colab": {
          "base_uri": "https://localhost:8080/",
          "height": 299
        },
        "id": "vKdgAGO18PGq",
        "outputId": "0fb8ec0f-e05a-4e47-c8a9-c321047f400f"
      },
      "outputs": [
        {
          "data": {
            "text/plain": [
              "<matplotlib.axes._subplots.AxesSubplot at 0x7f0eb42ddc10>"
            ]
          },
          "execution_count": 25,
          "metadata": {
            "tags": []
          },
          "output_type": "execute_result"
        },
        {
          "data": {
            "image/png": "[encoded data removed]",
            "text/plain": [
              "<Figure size 432x288 with 1 Axes>"
            ]
          },
          "metadata": {
            "needs_background": "light",
            "tags": []
          },
          "output_type": "display_data"
        }
      ],
      "source": [
        "sns.histplot(data=swiss, x='Catholic')"
      ]
    },
    {
      "cell_type": "code",
      "execution_count": null,
      "metadata": {
        "id": "_2hHfsAj8ZlG"
      },
      "outputs": [],
      "source": [
        "mod_0 = smf.ols('Fertility ~ Agriculture + Catholic + Education', data=swiss)\n",
        "fit_0 = mod_0.fit()"
      ]
    },
    {
      "cell_type": "code",
      "execution_count": null,
      "metadata": {
        "colab": {
          "base_uri": "https://localhost:8080/",
          "height": 494
        },
        "id": "TFcD1tUU86bM",
        "outputId": "ee4dc317-222e-4a90-935d-009659841d7a"
      },
      "outputs": [
        {
          "data": {
            "text/html": [
              "<table class=\"simpletable\">\n",
              "<caption>OLS Regression Results</caption>\n",
              "<tr>\n",
              "  <th>Dep. Variable:</th>        <td>Fertility</td>    <th>  R-squared:         </th> <td>   0.642</td>\n",
              "</tr>\n",
              "<tr>\n",
              "  <th>Model:</th>                   <td>OLS</td>       <th>  Adj. R-squared:    </th> <td>   0.617</td>\n",
              "</tr>\n",
              "<tr>\n",
              "  <th>Method:</th>             <td>Least Squares</td>  <th>  F-statistic:       </th> <td>   25.73</td>\n",
              "</tr>\n",
              "<tr>\n",
              "  <th>Date:</th>             <td>Thu, 05 Aug 2021</td> <th>  Prob (F-statistic):</th> <td>1.09e-09</td>\n",
              "</tr>\n",
              "<tr>\n",
              "  <th>Time:</th>                 <td>10:56:42</td>     <th>  Log-Likelihood:    </th> <td> -160.71</td>\n",
              "</tr>\n",
              "<tr>\n",
              "  <th>No. Observations:</th>      <td>    47</td>      <th>  AIC:               </th> <td>   329.4</td>\n",
              "</tr>\n",
              "<tr>\n",
              "  <th>Df Residuals:</th>          <td>    43</td>      <th>  BIC:               </th> <td>   336.8</td>\n",
              "</tr>\n",
              "<tr>\n",
              "  <th>Df Model:</th>              <td>     3</td>      <th>                     </th>     <td> </td>   \n",
              "</tr>\n",
              "<tr>\n",
              "  <th>Covariance Type:</th>      <td>nonrobust</td>    <th>                     </th>     <td> </td>   \n",
              "</tr>\n",
              "</table>\n",
              "<table class=\"simpletable\">\n",
              "<tr>\n",
              "       <td></td>          <th>coef</th>     <th>std err</th>      <th>t</th>      <th>P>|t|</th>  <th>[0.025</th>    <th>0.975]</th>  \n",
              "</tr>\n",
              "<tr>\n",
              "  <th>Intercept</th>   <td>   86.2250</td> <td>    4.735</td> <td>   18.211</td> <td> 0.000</td> <td>   76.677</td> <td>   95.773</td>\n",
              "</tr>\n",
              "<tr>\n",
              "  <th>Agriculture</th> <td>   -0.2030</td> <td>    0.071</td> <td>   -2.854</td> <td> 0.007</td> <td>   -0.347</td> <td>   -0.060</td>\n",
              "</tr>\n",
              "<tr>\n",
              "  <th>Catholic</th>    <td>    0.1452</td> <td>    0.030</td> <td>    4.817</td> <td> 0.000</td> <td>    0.084</td> <td>    0.206</td>\n",
              "</tr>\n",
              "<tr>\n",
              "  <th>Education</th>   <td>   -1.0721</td> <td>    0.156</td> <td>   -6.881</td> <td> 0.000</td> <td>   -1.386</td> <td>   -0.758</td>\n",
              "</tr>\n",
              "</table>\n",
              "<table class=\"simpletable\">\n",
              "<tr>\n",
              "  <th>Omnibus:</th>       <td> 2.226</td> <th>  Durbin-Watson:     </th> <td>   1.360</td>\n",
              "</tr>\n",
              "<tr>\n",
              "  <th>Prob(Omnibus):</th> <td> 0.329</td> <th>  Jarque-Bera (JB):  </th> <td>   1.379</td>\n",
              "</tr>\n",
              "<tr>\n",
              "  <th>Skew:</th>          <td> 0.111</td> <th>  Prob(JB):          </th> <td>   0.502</td>\n",
              "</tr>\n",
              "<tr>\n",
              "  <th>Kurtosis:</th>      <td> 2.191</td> <th>  Cond. No.          </th> <td>    319.</td>\n",
              "</tr>\n",
              "</table><br/><br/>Warnings:<br/>[1] Standard Errors assume that the covariance matrix of the errors is correctly specified."
            ],
            "text/plain": [
              "<class 'statsmodels.iolib.summary.Summary'>\n",
              "\"\"\"\n",
              "                            OLS Regression Results                            \n",
              "==============================================================================\n",
              "Dep. Variable:              Fertility   R-squared:                       0.642\n",
              "Model:                            OLS   Adj. R-squared:                  0.617\n",
              "Method:                 Least Squares   F-statistic:                     25.73\n",
              "Date:                Thu, 05 Aug 2021   Prob (F-statistic):           1.09e-09\n",
              "Time:                        10:56:42   Log-Likelihood:                -160.71\n",
              "No. Observations:                  47   AIC:                             329.4\n",
              "Df Residuals:                      43   BIC:                             336.8\n",
              "Df Model:                           3                                         \n",
              "Covariance Type:            nonrobust                                         \n",
              "===============================================================================\n",
              "                  coef    std err          t      P>|t|      [0.025      0.975]\n",
              "-------------------------------------------------------------------------------\n",
              "Intercept      86.2250      4.735     18.211      0.000      76.677      95.773\n",
              "Agriculture    -0.2030      0.071     -2.854      0.007      -0.347      -0.060\n",
              "Catholic        0.1452      0.030      4.817      0.000       0.084       0.206\n",
              "Education      -1.0721      0.156     -6.881      0.000      -1.386      -0.758\n",
              "==============================================================================\n",
              "Omnibus:                        2.226   Durbin-Watson:                   1.360\n",
              "Prob(Omnibus):                  0.329   Jarque-Bera (JB):                1.379\n",
              "Skew:                           0.111   Prob(JB):                        0.502\n",
              "Kurtosis:                       2.191   Cond. No.                         319.\n",
              "==============================================================================\n",
              "\n",
              "Warnings:\n",
              "[1] Standard Errors assume that the covariance matrix of the errors is correctly specified.\n",
              "\"\"\""
            ]
          },
          "execution_count": 27,
          "metadata": {
            "tags": []
          },
          "output_type": "execute_result"
        }
      ],
      "source": [
        "fit_0.summary()"
      ]
    },
    {
      "cell_type": "code",
      "execution_count": null,
      "metadata": {
        "colab": {
          "base_uri": "https://localhost:8080/",
          "height": 81
        },
        "id": "ThfhYffb9UmN",
        "outputId": "1c782c3e-ab6e-4c31-aeb4-6a4f45a688bc"
      },
      "outputs": [
        {
          "data": {
            "text/html": [
              "<div>\n",
              "<style scoped>\n",
              "    .dataframe tbody tr th:only-of-type {\n",
              "        vertical-align: middle;\n",
              "    }\n",
              "\n",
              "    .dataframe tbody tr th {\n",
              "        vertical-align: top;\n",
              "    }\n",
              "\n",
              "    .dataframe thead th {\n",
              "        text-align: right;\n",
              "    }\n",
              "</style>\n",
              "<table border=\"1\" class=\"dataframe\">\n",
              "  <thead>\n",
              "    <tr style=\"text-align: right;\">\n",
              "      <th></th>\n",
              "      <th>Agriculture</th>\n",
              "      <th>Catholic</th>\n",
              "      <th>Education</th>\n",
              "    </tr>\n",
              "  </thead>\n",
              "  <tbody>\n",
              "    <tr>\n",
              "      <th>0</th>\n",
              "      <td>50</td>\n",
              "      <td>50</td>\n",
              "      <td>20</td>\n",
              "    </tr>\n",
              "  </tbody>\n",
              "</table>\n",
              "</div>"
            ],
            "text/plain": [
              "   Agriculture  Catholic  Education\n",
              "0           50        50         20"
            ]
          },
          "execution_count": 28,
          "metadata": {
            "tags": []
          },
          "output_type": "execute_result"
        }
      ],
      "source": [
        "new = pd.DataFrame({'Agriculture': [50], 'Catholic': [50], 'Education': [20]})\n",
        "new"
      ]
    },
    {
      "cell_type": "code",
      "execution_count": null,
      "metadata": {
        "colab": {
          "base_uri": "https://localhost:8080/"
        },
        "id": "FnUl3BNm9u_U",
        "outputId": "7ef38fd4-39da-4d0f-e8c9-7febc430e855"
      },
      "outputs": [
        {
          "data": {
            "text/plain": [
              "0    61.890266\n",
              "dtype: float64"
            ]
          },
          "execution_count": 29,
          "metadata": {
            "tags": []
          },
          "output_type": "execute_result"
        }
      ],
      "source": [
        "fit_0.predict(new)"
      ]
    },
    {
      "cell_type": "code",
      "execution_count": null,
      "metadata": {
        "colab": {
          "base_uri": "https://localhost:8080/",
          "height": 81
        },
        "id": "fSbPSKCa9yVW",
        "outputId": "001fa71d-c3f1-4838-c02d-c1a3ba82d1fa"
      },
      "outputs": [
        {
          "data": {
            "text/html": [
              "<div>\n",
              "<style scoped>\n",
              "    .dataframe tbody tr th:only-of-type {\n",
              "        vertical-align: middle;\n",
              "    }\n",
              "\n",
              "    .dataframe tbody tr th {\n",
              "        vertical-align: top;\n",
              "    }\n",
              "\n",
              "    .dataframe thead th {\n",
              "        text-align: right;\n",
              "    }\n",
              "</style>\n",
              "<table border=\"1\" class=\"dataframe\">\n",
              "  <thead>\n",
              "    <tr style=\"text-align: right;\">\n",
              "      <th></th>\n",
              "      <th>Agriculture</th>\n",
              "      <th>Catholic</th>\n",
              "      <th>Education</th>\n",
              "      <th>y_hat</th>\n",
              "    </tr>\n",
              "  </thead>\n",
              "  <tbody>\n",
              "    <tr>\n",
              "      <th>0</th>\n",
              "      <td>50</td>\n",
              "      <td>50</td>\n",
              "      <td>20</td>\n",
              "      <td>61.890266</td>\n",
              "    </tr>\n",
              "  </tbody>\n",
              "</table>\n",
              "</div>"
            ],
            "text/plain": [
              "   Agriculture  Catholic  Education      y_hat\n",
              "0           50        50         20  61.890266"
            ]
          },
          "execution_count": 30,
          "metadata": {
            "tags": []
          },
          "output_type": "execute_result"
        }
      ],
      "source": [
        "new['y_hat'] = fit_0.predict(new)\n",
        "new"
      ]
    },
    {
      "cell_type": "code",
      "execution_count": null,
      "metadata": {
        "id": "IeNxu2Vi955O"
      },
      "outputs": [],
      "source": [
        "swiss['y_hat'] = fit_0.predict(swiss)"
      ]
    },
    {
      "cell_type": "code",
      "execution_count": null,
      "metadata": {
        "colab": {
          "base_uri": "https://localhost:8080/",
          "height": 206
        },
        "id": "IKRF-FvJ-Fzn",
        "outputId": "f1853b61-8f3a-482f-893e-25bbf6d25752"
      },
      "outputs": [
        {
          "data": {
            "text/html": [
              "<div>\n",
              "<style scoped>\n",
              "    .dataframe tbody tr th:only-of-type {\n",
              "        vertical-align: middle;\n",
              "    }\n",
              "\n",
              "    .dataframe tbody tr th {\n",
              "        vertical-align: top;\n",
              "    }\n",
              "\n",
              "    .dataframe thead th {\n",
              "        text-align: right;\n",
              "    }\n",
              "</style>\n",
              "<table border=\"1\" class=\"dataframe\">\n",
              "  <thead>\n",
              "    <tr style=\"text-align: right;\">\n",
              "      <th></th>\n",
              "      <th>Fertility</th>\n",
              "      <th>Agriculture</th>\n",
              "      <th>Examination</th>\n",
              "      <th>Education</th>\n",
              "      <th>Catholic</th>\n",
              "      <th>Infant.Mortality</th>\n",
              "      <th>y_hat</th>\n",
              "    </tr>\n",
              "  </thead>\n",
              "  <tbody>\n",
              "    <tr>\n",
              "      <th>0</th>\n",
              "      <td>80.2</td>\n",
              "      <td>17.0</td>\n",
              "      <td>15</td>\n",
              "      <td>12</td>\n",
              "      <td>9.96</td>\n",
              "      <td>22.2</td>\n",
              "      <td>71.353823</td>\n",
              "    </tr>\n",
              "    <tr>\n",
              "      <th>1</th>\n",
              "      <td>83.1</td>\n",
              "      <td>45.1</td>\n",
              "      <td>6</td>\n",
              "      <td>9</td>\n",
              "      <td>84.84</td>\n",
              "      <td>22.2</td>\n",
              "      <td>79.737581</td>\n",
              "    </tr>\n",
              "    <tr>\n",
              "      <th>2</th>\n",
              "      <td>92.5</td>\n",
              "      <td>39.7</td>\n",
              "      <td>5</td>\n",
              "      <td>5</td>\n",
              "      <td>93.40</td>\n",
              "      <td>20.2</td>\n",
              "      <td>86.365495</td>\n",
              "    </tr>\n",
              "    <tr>\n",
              "      <th>3</th>\n",
              "      <td>85.8</td>\n",
              "      <td>36.5</td>\n",
              "      <td>12</td>\n",
              "      <td>7</td>\n",
              "      <td>33.77</td>\n",
              "      <td>20.3</td>\n",
              "      <td>76.212566</td>\n",
              "    </tr>\n",
              "    <tr>\n",
              "      <th>4</th>\n",
              "      <td>76.9</td>\n",
              "      <td>43.5</td>\n",
              "      <td>17</td>\n",
              "      <td>15</td>\n",
              "      <td>5.16</td>\n",
              "      <td>20.6</td>\n",
              "      <td>62.059917</td>\n",
              "    </tr>\n",
              "  </tbody>\n",
              "</table>\n",
              "</div>"
            ],
            "text/plain": [
              "   Fertility  Agriculture  Examination  ...  Catholic  Infant.Mortality      y_hat\n",
              "0       80.2         17.0           15  ...      9.96              22.2  71.353823\n",
              "1       83.1         45.1            6  ...     84.84              22.2  79.737581\n",
              "2       92.5         39.7            5  ...     93.40              20.2  86.365495\n",
              "3       85.8         36.5           12  ...     33.77              20.3  76.212566\n",
              "4       76.9         43.5           17  ...      5.16              20.6  62.059917\n",
              "\n",
              "[5 rows x 7 columns]"
            ]
          },
          "execution_count": 32,
          "metadata": {
            "tags": []
          },
          "output_type": "execute_result"
        }
      ],
      "source": [
        "swiss.head()"
      ]
    },
    {
      "cell_type": "code",
      "execution_count": null,
      "metadata": {
        "colab": {
          "base_uri": "https://localhost:8080/",
          "height": 112
        },
        "id": "o4_0DLCR-IA2",
        "outputId": "d6569188-44d9-49a1-c010-01f93c1aa8ad"
      },
      "outputs": [
        {
          "data": {
            "text/html": [
              "<div>\n",
              "<style scoped>\n",
              "    .dataframe tbody tr th:only-of-type {\n",
              "        vertical-align: middle;\n",
              "    }\n",
              "\n",
              "    .dataframe tbody tr th {\n",
              "        vertical-align: top;\n",
              "    }\n",
              "\n",
              "    .dataframe thead th {\n",
              "        text-align: right;\n",
              "    }\n",
              "</style>\n",
              "<table border=\"1\" class=\"dataframe\">\n",
              "  <thead>\n",
              "    <tr style=\"text-align: right;\">\n",
              "      <th></th>\n",
              "      <th>Fertility</th>\n",
              "      <th>y_hat</th>\n",
              "    </tr>\n",
              "  </thead>\n",
              "  <tbody>\n",
              "    <tr>\n",
              "      <th>Fertility</th>\n",
              "      <td>1.000000</td>\n",
              "      <td>0.801408</td>\n",
              "    </tr>\n",
              "    <tr>\n",
              "      <th>y_hat</th>\n",
              "      <td>0.801408</td>\n",
              "      <td>1.000000</td>\n",
              "    </tr>\n",
              "  </tbody>\n",
              "</table>\n",
              "</div>"
            ],
            "text/plain": [
              "           Fertility     y_hat\n",
              "Fertility   1.000000  0.801408\n",
              "y_hat       0.801408  1.000000"
            ]
          },
          "execution_count": 33,
          "metadata": {
            "tags": []
          },
          "output_type": "execute_result"
        }
      ],
      "source": [
        "swiss[['Fertility', 'y_hat']].corr()"
      ]
    },
    {
      "cell_type": "code",
      "execution_count": null,
      "metadata": {
        "id": "rHz_MOMX-QlJ"
      },
      "outputs": [],
      "source": []
    }
  ],
  "metadata": {
    "colab": {
      "collapsed_sections": [],
      "name": "lab_01_3.ipynb",
      "provenance": []
    },
    "kernelspec": {
      "display_name": "Python 3",
      "name": "python3"
    },
    "language_info": {
      "name": "python"
    }
  },
  "nbformat": 4,
  "nbformat_minor": 0
}